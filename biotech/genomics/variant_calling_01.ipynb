{
 "cells": [
  {
   "cell_type": "markdown",
   "metadata": {},
   "source": [
    "# Variant Calling"
   ]
  },
  {
   "cell_type": "code",
   "execution_count": 2,
   "metadata": {
    "collapsed": true
   },
   "outputs": [],
   "source": [
    "import pandas as pd\n",
    "import numpy as np\n",
    "\n",
    "datapath = 'data/'\n",
    "\n",
    "def read_vcf(filename):\n",
    "    df = pd.read_csv(datapath + filename, sep='\\t')\n",
    "    \n",
    "    # filter to separate indels from snp\n",
    "    snp_only = df.apply(lambda row: len(row.REF)==1 and len(row.ALT)==1, axis=1)\n",
    "    snp = df[snp_only]\n",
    "    indels = df[~snp_only]\n",
    "    \n",
    "    print len(df), len(snp), len(indels)\n",
    "    \n",
    "    return snp, indels"
   ]
  },
  {
   "cell_type": "markdown",
   "metadata": {},
   "source": [
    "### 1. read NIST.vcf"
   ]
  },
  {
   "cell_type": "code",
   "execution_count": 3,
   "metadata": {
    "collapsed": false
   },
   "outputs": [
    {
     "name": "stdout",
     "output_type": "stream",
     "text": [
      "373001 303275 69726\n",
      "306338 249746 56592\n"
     ]
    },
    {
     "data": {
      "text/html": [
       "<div>\n",
       "<table border=\"1\" class=\"dataframe\">\n",
       "  <thead>\n",
       "    <tr style=\"text-align: right;\">\n",
       "      <th></th>\n",
       "      <th>CHROM</th>\n",
       "      <th>POS</th>\n",
       "      <th>REF</th>\n",
       "      <th>ALT</th>\n",
       "      <th>DP</th>\n",
       "      <th>ADR</th>\n",
       "      <th>ADA</th>\n",
       "      <th>GQ</th>\n",
       "      <th>LABEL</th>\n",
       "    </tr>\n",
       "  </thead>\n",
       "  <tbody>\n",
       "    <tr>\n",
       "      <th>0</th>\n",
       "      <td>3</td>\n",
       "      <td>60596</td>\n",
       "      <td>C</td>\n",
       "      <td>A</td>\n",
       "      <td>40</td>\n",
       "      <td>0</td>\n",
       "      <td>40</td>\n",
       "      <td>99</td>\n",
       "      <td>FAIL</td>\n",
       "    </tr>\n",
       "    <tr>\n",
       "      <th>1</th>\n",
       "      <td>3</td>\n",
       "      <td>61044</td>\n",
       "      <td>T</td>\n",
       "      <td>C</td>\n",
       "      <td>34</td>\n",
       "      <td>0</td>\n",
       "      <td>34</td>\n",
       "      <td>99</td>\n",
       "      <td>FAIL</td>\n",
       "    </tr>\n",
       "    <tr>\n",
       "      <th>2</th>\n",
       "      <td>3</td>\n",
       "      <td>61113</td>\n",
       "      <td>A</td>\n",
       "      <td>T</td>\n",
       "      <td>30</td>\n",
       "      <td>0</td>\n",
       "      <td>30</td>\n",
       "      <td>90</td>\n",
       "      <td>FAIL</td>\n",
       "    </tr>\n",
       "    <tr>\n",
       "      <th>3</th>\n",
       "      <td>3</td>\n",
       "      <td>61495</td>\n",
       "      <td>A</td>\n",
       "      <td>G</td>\n",
       "      <td>49</td>\n",
       "      <td>24</td>\n",
       "      <td>25</td>\n",
       "      <td>99</td>\n",
       "      <td>FAIL</td>\n",
       "    </tr>\n",
       "    <tr>\n",
       "      <th>4</th>\n",
       "      <td>3</td>\n",
       "      <td>61762</td>\n",
       "      <td>T</td>\n",
       "      <td>A</td>\n",
       "      <td>41</td>\n",
       "      <td>17</td>\n",
       "      <td>24</td>\n",
       "      <td>99</td>\n",
       "      <td>FAIL</td>\n",
       "    </tr>\n",
       "  </tbody>\n",
       "</table>\n",
       "</div>"
      ],
      "text/plain": [
       "   CHROM    POS REF ALT  DP  ADR  ADA  GQ LABEL\n",
       "0      3  60596   C   A  40    0   40  99  FAIL\n",
       "1      3  61044   T   C  34    0   34  99  FAIL\n",
       "2      3  61113   A   T  30    0   30  90  FAIL\n",
       "3      3  61495   A   G  49   24   25  99  FAIL\n",
       "4      3  61762   T   A  41   17   24  99  FAIL"
      ]
     },
     "execution_count": 3,
     "metadata": {},
     "output_type": "execute_result"
    }
   ],
   "source": [
    "nist2_snp, nist2_indels = read_vcf('na12878-nist.chr2')\n",
    "nist3_snp, nist3_indels = read_vcf('na12878-nist.chr3')\n",
    "nist3_snp.head()"
   ]
  },
  {
   "cell_type": "markdown",
   "metadata": {},
   "source": [
    "### 2. read garvan.vcf"
   ]
  },
  {
   "cell_type": "code",
   "execution_count": 4,
   "metadata": {
    "collapsed": false
   },
   "outputs": [
    {
     "name": "stdout",
     "output_type": "stream",
     "text": [
      "373001 303275 69726\n",
      "306338 249746 56592\n"
     ]
    },
    {
     "data": {
      "text/html": [
       "<div>\n",
       "<table border=\"1\" class=\"dataframe\">\n",
       "  <thead>\n",
       "    <tr style=\"text-align: right;\">\n",
       "      <th></th>\n",
       "      <th>CHROM</th>\n",
       "      <th>POS</th>\n",
       "      <th>REF</th>\n",
       "      <th>ALT</th>\n",
       "      <th>DP</th>\n",
       "      <th>ADR</th>\n",
       "      <th>ADA</th>\n",
       "      <th>GQ</th>\n",
       "      <th>LABEL</th>\n",
       "    </tr>\n",
       "  </thead>\n",
       "  <tbody>\n",
       "    <tr>\n",
       "      <th>0</th>\n",
       "      <td>3</td>\n",
       "      <td>60596</td>\n",
       "      <td>C</td>\n",
       "      <td>A</td>\n",
       "      <td>40</td>\n",
       "      <td>0</td>\n",
       "      <td>40</td>\n",
       "      <td>99</td>\n",
       "      <td>PASS</td>\n",
       "    </tr>\n",
       "    <tr>\n",
       "      <th>1</th>\n",
       "      <td>3</td>\n",
       "      <td>61044</td>\n",
       "      <td>T</td>\n",
       "      <td>C</td>\n",
       "      <td>34</td>\n",
       "      <td>0</td>\n",
       "      <td>34</td>\n",
       "      <td>99</td>\n",
       "      <td>PASS</td>\n",
       "    </tr>\n",
       "    <tr>\n",
       "      <th>2</th>\n",
       "      <td>3</td>\n",
       "      <td>61113</td>\n",
       "      <td>A</td>\n",
       "      <td>T</td>\n",
       "      <td>30</td>\n",
       "      <td>0</td>\n",
       "      <td>30</td>\n",
       "      <td>90</td>\n",
       "      <td>PASS</td>\n",
       "    </tr>\n",
       "    <tr>\n",
       "      <th>3</th>\n",
       "      <td>3</td>\n",
       "      <td>61495</td>\n",
       "      <td>A</td>\n",
       "      <td>G</td>\n",
       "      <td>49</td>\n",
       "      <td>24</td>\n",
       "      <td>25</td>\n",
       "      <td>99</td>\n",
       "      <td>PASS</td>\n",
       "    </tr>\n",
       "    <tr>\n",
       "      <th>4</th>\n",
       "      <td>3</td>\n",
       "      <td>61762</td>\n",
       "      <td>T</td>\n",
       "      <td>A</td>\n",
       "      <td>41</td>\n",
       "      <td>17</td>\n",
       "      <td>24</td>\n",
       "      <td>99</td>\n",
       "      <td>PASS</td>\n",
       "    </tr>\n",
       "  </tbody>\n",
       "</table>\n",
       "</div>"
      ],
      "text/plain": [
       "   CHROM    POS REF ALT  DP  ADR  ADA  GQ LABEL\n",
       "0      3  60596   C   A  40    0   40  99  PASS\n",
       "1      3  61044   T   C  34    0   34  99  PASS\n",
       "2      3  61113   A   T  30    0   30  90  PASS\n",
       "3      3  61495   A   G  49   24   25  99  PASS\n",
       "4      3  61762   T   A  41   17   24  99  PASS"
      ]
     },
     "execution_count": 4,
     "metadata": {},
     "output_type": "execute_result"
    }
   ],
   "source": [
    "garv2_snp, garv2_indels = read_vcf('na12878-garvan.chr2')\n",
    "garv3_snp, garv3_indels = read_vcf('na12878-garvan.chr3')\n",
    "garv3_snp.head()"
   ]
  },
  {
   "cell_type": "markdown",
   "metadata": {},
   "source": [
    "### 3. NIST_train = (garvan if in NIST.vcf - NIST_chr3)\n",
    "\n",
    "The NIST dataset doesn't contain the AD feature, so we need to get that column from the Garvan dataset, using an inner join."
   ]
  },
  {
   "cell_type": "code",
   "execution_count": 5,
   "metadata": {
    "collapsed": false
   },
   "outputs": [],
   "source": [
    "#ng_inner = garv_train.merge(nist_train, how='inner', copy=True, indicator=True, \n",
    "#                             fields=['CHROM', 'POS', 'REF', 'ALT'])\n",
    "\n",
    "nist_train = nist3_snp\n",
    "nist_test = nist3_snp"
   ]
  },
  {
   "cell_type": "markdown",
   "metadata": {},
   "source": [
    "### 4. garvan_train = split(garvan.vcf - garban_chr3)"
   ]
  },
  {
   "cell_type": "code",
   "execution_count": 6,
   "metadata": {
    "collapsed": false
   },
   "outputs": [],
   "source": [
    "garv_train = garv2_snp\n",
    "garv_test = garv3_snp"
   ]
  },
  {
   "cell_type": "markdown",
   "metadata": {},
   "source": [
    "### 5. est_neg  = (garvan_train - NIST_train),  (change to fail)"
   ]
  },
  {
   "cell_type": "code",
   "execution_count": 7,
   "metadata": {
    "collapsed": false
   },
   "outputs": [
    {
     "data": {
      "text/plain": [
       "\"joined = garv_train.merge(nist_train, how='left', on=['CHROM', 'POS', 'REF', 'ALT'], \\n                             copy=True, indicator=True)\\ngrouped = joined.groupby('_merge')\\nfor g in grouped.groups:\\n    print g\\njoined.head()\""
      ]
     },
     "execution_count": 7,
     "metadata": {},
     "output_type": "execute_result"
    }
   ],
   "source": [
    "\"\"\"joined = garv_train.merge(nist_train, how='left', on=['CHROM', 'POS', 'REF', 'ALT'], \n",
    "                             copy=True, indicator=True)\n",
    "grouped = joined.groupby('_merge')\n",
    "for g in grouped.groups:\n",
    "    print g\n",
    "joined.head()\"\"\""
   ]
  },
  {
   "cell_type": "code",
   "execution_count": 8,
   "metadata": {
    "collapsed": false
   },
   "outputs": [
    {
     "data": {
      "text/plain": [
       "\"est_neg = joined[['CHROM_x', 'POS', 'REF', 'ALT', 'DP_x', 'ADR_x', 'ADA_x', 'GQ_x', 'LABEL_x']][joined._merge!='left_only']\\nest_neg.columns = ['CHROM', 'POS', 'REF', 'ALT', 'DP', 'ADR', 'ADA', 'GQ', 'LABEL']\\nest_neg['LABEL'] = 'FAIL'\\nest_neg.head()\\njoined = None\""
      ]
     },
     "execution_count": 8,
     "metadata": {},
     "output_type": "execute_result"
    }
   ],
   "source": [
    "\"\"\"est_neg = joined[['CHROM_x', 'POS', 'REF', 'ALT', 'DP_x', 'ADR_x', 'ADA_x', 'GQ_x', 'LABEL_x']][joined._merge!='left_only']\n",
    "est_neg.columns = ['CHROM', 'POS', 'REF', 'ALT', 'DP', 'ADR', 'ADA', 'GQ', 'LABEL']\n",
    "est_neg['LABEL'] = 'FAIL'\n",
    "est_neg.head()\n",
    "joined = None\"\"\""
   ]
  },
  {
   "cell_type": "markdown",
   "metadata": {},
   "source": [
    "### 6. train = nist_train + est_neg"
   ]
  },
  {
   "cell_type": "code",
   "execution_count": 9,
   "metadata": {
    "collapsed": false
   },
   "outputs": [],
   "source": [
    "\"\"\"train = pd.concat([nist_train, est_neg])\n",
    "est_neg = None\"\"\"\n",
    "train = nist_train"
   ]
  },
  {
   "cell_type": "markdown",
   "metadata": {},
   "source": [
    "### 7. classifier = model.fit(train)"
   ]
  },
  {
   "cell_type": "code",
   "execution_count": 10,
   "metadata": {
    "collapsed": false
   },
   "outputs": [
    {
     "name": "stdout",
     "output_type": "stream",
     "text": [
      "249746 197419\n"
     ]
    }
   ],
   "source": [
    "train_y = np.array(train['LABEL']=='PASS')\n",
    "print len(train_y), sum(train_y)"
   ]
  },
  {
   "cell_type": "code",
   "execution_count": 11,
   "metadata": {
    "collapsed": false
   },
   "outputs": [],
   "source": [
    "def extract_features(obs, cols):\n",
    "    bases = ['A', 'C', 'G', 'T']\n",
    "    X = np.ndarray(shape=(len(obs), len(cols) + 2*(len(['A', 'C', 'G', 'T'])-1)))\n",
    "    i = 0\n",
    "    for ix in obs.index:\n",
    "        row = obs.ix[ix]\n",
    "        rowd = {}\n",
    "        for c in cols:\n",
    "            if c in ['REF', 'ALT']:  \n",
    "                for n in bases:\n",
    "                    rowd[c + '_' + n] = 0.0\n",
    "                rowd[c+'_'+row[c]] = 1.0\n",
    "            else:\n",
    "                if ' ' in c: print c\n",
    "                elif '\\t' in c: print c\n",
    "                elif ',' in c: print c\n",
    "                rowd[c] = row[c] \n",
    "                \n",
    "        X[i,:] = rowd.values()\n",
    "        i += 1\n",
    "        \n",
    "    feature_names = []\n",
    "    for c in cols:\n",
    "        if c in ['REF', 'ALT']:  \n",
    "            for n in bases:\n",
    "                feature_names.append(c + '_' + n)\n",
    "        else:\n",
    "            feature_names.append(c) \n",
    "    \n",
    "    return X, feature_names "
   ]
  },
  {
   "cell_type": "code",
   "execution_count": 12,
   "metadata": {
    "collapsed": false
   },
   "outputs": [
    {
     "data": {
      "text/plain": [
       "array([[  1.,   0.,   0.,  99.,  40.,   0.,  40.,   0.,   1.,   0.,   0.,\n",
       "          0.]])"
      ]
     },
     "execution_count": 12,
     "metadata": {},
     "output_type": "execute_result"
    }
   ],
   "source": [
    "columns = ['REF', 'ALT', 'DP', 'ADR', 'ADA', 'GQ']\n",
    "train_X, feature_names = extract_features(train, columns)\n",
    "train_X[0:1,:]"
   ]
  },
  {
   "cell_type": "code",
   "execution_count": 13,
   "metadata": {
    "collapsed": false
   },
   "outputs": [
    {
     "name": "stdout",
     "output_type": "stream",
     "text": [
      "['REF_A', 'REF_C', 'REF_G', 'REF_T', 'ALT_A', 'ALT_C', 'ALT_G', 'ALT_T', 'DP', 'ADR', 'ADA', 'GQ']\n",
      "[[-0.35775884 -0.46846063 -0.35028482  0.02818711  0.60571052 -0.4466496\n",
      "  -0.56878602 -0.45733557 -0.45713656  0.58770187 -0.37373917 -0.35631454]]\n"
     ]
    },
    {
     "name": "stderr",
     "output_type": "stream",
     "text": [
      "/home/adrian/anaconda2/lib/python2.7/site-packages/sklearn/utils/__init__.py:93: DeprecationWarning: Function transform is deprecated; Support to use estimators as feature selectors will be removed in version 0.19. Use SelectFromModel instead.\n",
      "  warnings.warn(msg, category=DeprecationWarning)\n"
     ]
    }
   ],
   "source": [
    "from sklearn.linear_model import LogisticRegression\n",
    "classifier = LogisticRegression(random_state=1)\n",
    "classifier.fit_transform(train_X, train_y)\n",
    "print feature_names\n",
    "print classifier.coef_"
   ]
  },
  {
   "cell_type": "markdown",
   "metadata": {},
   "source": [
    "### 8. Eval"
   ]
  },
  {
   "cell_type": "markdown",
   "metadata": {},
   "source": [
    "####    8.1   -  test = nist3 + changed_to_fail(garvan3 - nist3) "
   ]
  },
  {
   "cell_type": "code",
   "execution_count": 14,
   "metadata": {
    "collapsed": false
   },
   "outputs": [
    {
     "data": {
      "text/plain": [
       "array([[  1.,   0.,   0.,  99.,  40.,   0.,  40.,   0.,   1.,   0.,   0.,\n",
       "          0.]])"
      ]
     },
     "execution_count": 14,
     "metadata": {},
     "output_type": "execute_result"
    }
   ],
   "source": [
    "columns = ['REF', 'ALT', 'DP', 'ADR', 'ADA', 'GQ']\n",
    "test_X, feature_names = extract_features(nist_test, columns)\n",
    "test_X[0:1,:]"
   ]
  },
  {
   "cell_type": "code",
   "execution_count": 15,
   "metadata": {
    "collapsed": false
   },
   "outputs": [
    {
     "name": "stdout",
     "output_type": "stream",
     "text": [
      "249746 197419 52327 Majority Class Score:  0.790479126793\n"
     ]
    }
   ],
   "source": [
    "test_y = np.array(nist_test['LABEL']=='PASS')\n",
    "print len(test_y), sum(test_y), len(test_y) - sum(test_y), \"Majority Class Score: \", sum(test_y)/float(len(test_y))"
   ]
  },
  {
   "cell_type": "markdown",
   "metadata": {},
   "source": [
    "####    8.2   -  pred_y = model.predict(test.X)"
   ]
  },
  {
   "cell_type": "code",
   "execution_count": 16,
   "metadata": {
    "collapsed": false
   },
   "outputs": [],
   "source": [
    "pred_y = classifier.predict(test_X)"
   ]
  },
  {
   "cell_type": "markdown",
   "metadata": {},
   "source": [
    "####    8.3 - Accuracy Score \n",
    "pred_y vs test_y"
   ]
  },
  {
   "cell_type": "code",
   "execution_count": 22,
   "metadata": {
    "collapsed": false
   },
   "outputs": [
    {
     "data": {
      "text/plain": [
       "0.80226710337703111"
      ]
     },
     "execution_count": 22,
     "metadata": {},
     "output_type": "execute_result"
    }
   ],
   "source": [
    "classifier.score(test_X, test_y)"
   ]
  },
  {
   "cell_type": "markdown",
   "metadata": {},
   "source": [
    " ### Confusion Matrix"
   ]
  },
  {
   "cell_type": "code",
   "execution_count": 34,
   "metadata": {
    "collapsed": false
   },
   "outputs": [
    {
     "name": "stdout",
     "output_type": "stream",
     "text": [
      "      ['0-FAIL', '1-PASS']\n",
      "0-FAIL [ 4304 48023]\n",
      "1-PASS [  1360 196059]\n"
     ]
    }
   ],
   "source": [
    "from sklearn.metrics import confusion_matrix\n",
    "\n",
    "cm = confusion_matrix(test_y, pred_y)\n",
    "\n",
    "label_dict = {0: '0-FAIL', 1:'1-PASS'}\n",
    "print '     ', label_dict.values()\n",
    "for i in range(len(cm[:,0])):\n",
    "    print label_dict [i], cm[i,:]"
   ]
  },
  {
   "cell_type": "markdown",
   "metadata": {},
   "source": [
    " $C_{i, j}$ is equal to the number of observations known to be in group i but predicted to be in group j."
   ]
  },
  {
   "cell_type": "code",
   "execution_count": 37,
   "metadata": {
    "collapsed": false
   },
   "outputs": [
    {
     "name": "stdout",
     "output_type": "stream",
     "text": [
      "Accuracy   = 0.8023\n",
      "Precission (specificity) = 0.8033\n",
      "Recall     (sensitivity) = 0.9931\n"
     ]
    }
   ],
   "source": [
    "tn = cm[0,0]\n",
    "fp = cm[0,1]\n",
    "fn = cm[1,0]\n",
    "tp = cm[1,1]\n",
    "acu = (tp+tn)/float(tp+fp+tn+fn)\n",
    "pre = (tp)/float(tp+fp)\n",
    "rec = (tp)/float(tp+fn)\n",
    "print \"Accuracy   = %.4f\" % acu\n",
    "print \"Precission (specificity) = %.4f\" % pre\n",
    "print \"Recall     (sensitivity) = %.4f\" % rec"
   ]
  },
  {
   "cell_type": "markdown",
   "metadata": {},
   "source": [
    "### F1 score (also F-score or F-measure) \n",
    "The traditional F-measure or balanced F-score (F1 score) is the harmonic mean of precision and recall:\n",
    "\n",
    "$$F_1 = 2 \\cdot \\frac{\\mathrm{precision} \\cdot \\mathrm{recall}}{\\mathrm{precision} + \\mathrm{recall}}$$"
   ]
  },
  {
   "cell_type": "code",
   "execution_count": 36,
   "metadata": {
    "collapsed": false
   },
   "outputs": [
    {
     "name": "stdout",
     "output_type": "stream",
     "text": [
      "F_measure = 0.8881\n"
     ]
    }
   ],
   "source": [
    "F_measure = 2 * pre * rec / (pre + rec)\n",
    "print \"F_measure = %.4f\" % F_measure"
   ]
  },
  {
   "cell_type": "code",
   "execution_count": null,
   "metadata": {
    "collapsed": true
   },
   "outputs": [],
   "source": []
  }
 ],
 "metadata": {
  "kernelspec": {
   "display_name": "Python 2",
   "language": "python",
   "name": "python2"
  },
  "language_info": {
   "codemirror_mode": {
    "name": "ipython",
    "version": 2
   },
   "file_extension": ".py",
   "mimetype": "text/x-python",
   "name": "python",
   "nbconvert_exporter": "python",
   "pygments_lexer": "ipython2",
   "version": "2.7.11"
  }
 },
 "nbformat": 4,
 "nbformat_minor": 0
}
