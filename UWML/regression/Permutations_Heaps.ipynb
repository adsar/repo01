{
 "cells": [
  {
   "cell_type": "markdown",
   "metadata": {},
   "source": [
    "# Permutations\n",
    "Heap's algorithm is the most efficient way to generate permutations.\n",
    "- Works in place\n",
    "- Requires the minimum number of swaps: N!\n",
    "- At the return of every recursive call, the first n-1 elements of the array have been permuted \n",
    "- It doesn't swap things back (no backtracking), it actually exploits the fact that the array has been changes by the lower level call\n"
   ]
  },
  {
   "cell_type": "code",
   "execution_count": 4,
   "metadata": {
    "collapsed": true
   },
   "outputs": [],
   "source": [
    "def swap(A, i, j):\n",
    "    temp = A[i]\n",
    "    A[i] = A[j]\n",
    "    A[j] = temp"
   ]
  },
  {
   "cell_type": "code",
   "execution_count": 17,
   "metadata": {
    "collapsed": true
   },
   "outputs": [],
   "source": [
    "def generate(n, A):\n",
    "    if n == 1:\n",
    "        print A\n",
    "    else:\n",
    "        #print '>', '(', n , A, ')'\n",
    "        for i in range(n-1):\n",
    "            #print '>>', i, '(', n , A, ')'\n",
    "            generate(n-1, A) # note that n is decremented in every recursive call\n",
    "            if n % 2 == 0:\n",
    "                swap(A, i, n-1)\n",
    "            else:\n",
    "                swap(A, 0, n-1) # note that every time A[0] is different because the recursive call changed it.\n",
    "        generate(n-1, A)\n"
   ]
  },
  {
   "cell_type": "code",
   "execution_count": 21,
   "metadata": {
    "collapsed": false
   },
   "outputs": [
    {
     "name": "stdout",
     "output_type": "stream",
     "text": [
      "['a', 'b', 'c', 'd', 'e']\n",
      "['b', 'a', 'c', 'd', 'e']\n",
      "['c', 'a', 'b', 'd', 'e']\n",
      "['a', 'c', 'b', 'd', 'e']\n",
      "['b', 'c', 'a', 'd', 'e']\n",
      "['c', 'b', 'a', 'd', 'e']\n",
      "['d', 'b', 'a', 'c', 'e']\n",
      "['b', 'd', 'a', 'c', 'e']\n",
      "['a', 'd', 'b', 'c', 'e']\n",
      "['d', 'a', 'b', 'c', 'e']\n",
      "['b', 'a', 'd', 'c', 'e']\n",
      "['a', 'b', 'd', 'c', 'e']\n",
      "['a', 'c', 'd', 'b', 'e']\n",
      "['c', 'a', 'd', 'b', 'e']\n",
      "['d', 'a', 'c', 'b', 'e']\n",
      "['a', 'd', 'c', 'b', 'e']\n",
      "['c', 'd', 'a', 'b', 'e']\n",
      "['d', 'c', 'a', 'b', 'e']\n",
      "['d', 'c', 'b', 'a', 'e']\n",
      "['c', 'd', 'b', 'a', 'e']\n",
      "['b', 'd', 'c', 'a', 'e']\n",
      "['d', 'b', 'c', 'a', 'e']\n",
      "['c', 'b', 'd', 'a', 'e']\n",
      "['b', 'c', 'd', 'a', 'e']\n",
      "['e', 'c', 'd', 'a', 'b']\n",
      "['c', 'e', 'd', 'a', 'b']\n",
      "['d', 'e', 'c', 'a', 'b']\n",
      "['e', 'd', 'c', 'a', 'b']\n",
      "['c', 'd', 'e', 'a', 'b']\n",
      "['d', 'c', 'e', 'a', 'b']\n",
      "['a', 'c', 'e', 'd', 'b']\n",
      "['c', 'a', 'e', 'd', 'b']\n",
      "['e', 'a', 'c', 'd', 'b']\n",
      "['a', 'e', 'c', 'd', 'b']\n",
      "['c', 'e', 'a', 'd', 'b']\n",
      "['e', 'c', 'a', 'd', 'b']\n",
      "['e', 'd', 'a', 'c', 'b']\n",
      "['d', 'e', 'a', 'c', 'b']\n",
      "['a', 'e', 'd', 'c', 'b']\n",
      "['e', 'a', 'd', 'c', 'b']\n",
      "['d', 'a', 'e', 'c', 'b']\n",
      "['a', 'd', 'e', 'c', 'b']\n",
      "['a', 'd', 'c', 'e', 'b']\n",
      "['d', 'a', 'c', 'e', 'b']\n",
      "['c', 'a', 'd', 'e', 'b']\n",
      "['a', 'c', 'd', 'e', 'b']\n",
      "['d', 'c', 'a', 'e', 'b']\n",
      "['c', 'd', 'a', 'e', 'b']\n",
      "['b', 'd', 'a', 'e', 'c']\n",
      "['d', 'b', 'a', 'e', 'c']\n",
      "['a', 'b', 'd', 'e', 'c']\n",
      "['b', 'a', 'd', 'e', 'c']\n",
      "['d', 'a', 'b', 'e', 'c']\n",
      "['a', 'd', 'b', 'e', 'c']\n",
      "['e', 'd', 'b', 'a', 'c']\n",
      "['d', 'e', 'b', 'a', 'c']\n",
      "['b', 'e', 'd', 'a', 'c']\n",
      "['e', 'b', 'd', 'a', 'c']\n",
      "['d', 'b', 'e', 'a', 'c']\n",
      "['b', 'd', 'e', 'a', 'c']\n",
      "['b', 'a', 'e', 'd', 'c']\n",
      "['a', 'b', 'e', 'd', 'c']\n",
      "['e', 'b', 'a', 'd', 'c']\n",
      "['b', 'e', 'a', 'd', 'c']\n",
      "['a', 'e', 'b', 'd', 'c']\n",
      "['e', 'a', 'b', 'd', 'c']\n",
      "['e', 'a', 'd', 'b', 'c']\n",
      "['a', 'e', 'd', 'b', 'c']\n",
      "['d', 'e', 'a', 'b', 'c']\n",
      "['e', 'd', 'a', 'b', 'c']\n",
      "['a', 'd', 'e', 'b', 'c']\n",
      "['d', 'a', 'e', 'b', 'c']\n",
      "['c', 'a', 'e', 'b', 'd']\n",
      "['a', 'c', 'e', 'b', 'd']\n",
      "['e', 'c', 'a', 'b', 'd']\n",
      "['c', 'e', 'a', 'b', 'd']\n",
      "['a', 'e', 'c', 'b', 'd']\n",
      "['e', 'a', 'c', 'b', 'd']\n",
      "['b', 'a', 'c', 'e', 'd']\n",
      "['a', 'b', 'c', 'e', 'd']\n",
      "['c', 'b', 'a', 'e', 'd']\n",
      "['b', 'c', 'a', 'e', 'd']\n",
      "['a', 'c', 'b', 'e', 'd']\n",
      "['c', 'a', 'b', 'e', 'd']\n",
      "['c', 'e', 'b', 'a', 'd']\n",
      "['e', 'c', 'b', 'a', 'd']\n",
      "['b', 'c', 'e', 'a', 'd']\n",
      "['c', 'b', 'e', 'a', 'd']\n",
      "['e', 'b', 'c', 'a', 'd']\n",
      "['b', 'e', 'c', 'a', 'd']\n",
      "['b', 'e', 'a', 'c', 'd']\n",
      "['e', 'b', 'a', 'c', 'd']\n",
      "['a', 'b', 'e', 'c', 'd']\n",
      "['b', 'a', 'e', 'c', 'd']\n",
      "['e', 'a', 'b', 'c', 'd']\n",
      "['a', 'e', 'b', 'c', 'd']\n",
      "['d', 'e', 'b', 'c', 'a']\n",
      "['e', 'd', 'b', 'c', 'a']\n",
      "['b', 'd', 'e', 'c', 'a']\n",
      "['d', 'b', 'e', 'c', 'a']\n",
      "['e', 'b', 'd', 'c', 'a']\n",
      "['b', 'e', 'd', 'c', 'a']\n",
      "['c', 'e', 'd', 'b', 'a']\n",
      "['e', 'c', 'd', 'b', 'a']\n",
      "['d', 'c', 'e', 'b', 'a']\n",
      "['c', 'd', 'e', 'b', 'a']\n",
      "['e', 'd', 'c', 'b', 'a']\n",
      "['d', 'e', 'c', 'b', 'a']\n",
      "['d', 'b', 'c', 'e', 'a']\n",
      "['b', 'd', 'c', 'e', 'a']\n",
      "['c', 'd', 'b', 'e', 'a']\n",
      "['d', 'c', 'b', 'e', 'a']\n",
      "['b', 'c', 'd', 'e', 'a']\n",
      "['c', 'b', 'd', 'e', 'a']\n",
      "['c', 'b', 'e', 'd', 'a']\n",
      "['b', 'c', 'e', 'd', 'a']\n",
      "['e', 'c', 'b', 'd', 'a']\n",
      "['c', 'e', 'b', 'd', 'a']\n",
      "['b', 'e', 'c', 'd', 'a']\n",
      "['e', 'b', 'c', 'd', 'a']\n",
      "\n",
      "['e', 'b', 'c', 'd', 'a'] Heap's changes the array!, actually the order is exactly inverted, so it's not so hard to revert it to original order.\n"
     ]
    }
   ],
   "source": [
    "A = ['a','b', 'c', 'd', 'e']\n",
    "n = len(A)\n",
    "generate(n, A)\n",
    "print\n",
    "print A,  \"Heap's changes the array!\""
   ]
  },
  {
   "cell_type": "code",
   "execution_count": null,
   "metadata": {
    "collapsed": true
   },
   "outputs": [],
   "source": []
  }
 ],
 "metadata": {
  "kernelspec": {
   "display_name": "Python 2",
   "language": "python",
   "name": "python2"
  },
  "language_info": {
   "codemirror_mode": {
    "name": "ipython",
    "version": 2
   },
   "file_extension": ".py",
   "mimetype": "text/x-python",
   "name": "python",
   "nbconvert_exporter": "python",
   "pygments_lexer": "ipython2",
   "version": "2.7.10"
  }
 },
 "nbformat": 4,
 "nbformat_minor": 0
}
