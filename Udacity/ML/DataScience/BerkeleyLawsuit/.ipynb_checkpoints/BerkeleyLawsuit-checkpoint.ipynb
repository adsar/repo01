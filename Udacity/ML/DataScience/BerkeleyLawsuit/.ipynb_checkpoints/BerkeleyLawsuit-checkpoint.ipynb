{
 "cells": [
  {
   "cell_type": "markdown",
   "metadata": {
    "collapsed": false
   },
   "source": [
    "# Hypothesis Test on comparison of proportion of populations"
   ]
  },
  {
   "cell_type": "code",
   "execution_count": 24,
   "metadata": {
    "collapsed": false
   },
   "outputs": [],
   "source": [
    "import numpy as np\n",
    "import pandas as pd\n",
    "import matplotlib as mpl\n",
    "import csv\n",
    "import math"
   ]
  },
  {
   "cell_type": "code",
   "execution_count": 16,
   "metadata": {
    "collapsed": false
   },
   "outputs": [],
   "source": [
    "def printCsv(filepath):\n",
    "    with open(filepath, 'rb') as csvfile:\n",
    "        spamreader = csv.reader(csvfile, delimiter=' ', quotechar='|')\n",
    "        for row in spamreader:\n",
    "            print ', '.join(row)"
   ]
  },
  {
   "cell_type": "markdown",
   "metadata": {
    "collapsed": true
   },
   "source": [
    "Read the CSV   "
   ]
  },
  {
   "cell_type": "code",
   "execution_count": 17,
   "metadata": {
    "collapsed": false
   },
   "outputs": [
    {
     "name": "stdout",
     "output_type": "stream",
     "text": [
      "Admit,Gender,Dept,Freq\n",
      "Admitted,Male,A,512\n",
      "Rejected,Male,A,313\n",
      "Admitted,Female,A,89\n",
      "Rejected,Female,A,19\n",
      "Admitted,Male,B,353\n",
      "Rejected,Male,B,207\n",
      "Admitted,Female,B,17\n",
      "Rejected,Female,B,8\n",
      "Admitted,Male,C,120\n",
      "Rejected,Male,C,205\n",
      "Admitted,Female,C,202\n",
      "Rejected,Female,C,391\n",
      "Admitted,Male,D,138\n",
      "Rejected,Male,D,279\n",
      "Admitted,Female,D,131\n",
      "Rejected,Female,D,244\n",
      "Admitted,Male,E,53\n",
      "Rejected,Male,E,138\n",
      "Admitted,Female,E,94\n",
      "Rejected,Female,E,299\n",
      "Admitted,Male,F,22\n",
      "Rejected,Male,F,351\n",
      "Admitted,Female,F,24\n",
      "Rejected,Female,F,317\n"
     ]
    }
   ],
   "source": [
    "filepath = 'Berkeley.csv'\n",
    "printCsv(filepath)\n",
    "df = pd.read_csv(filepath, delimiter=',', index_col=False)"
   ]
  },
  {
   "cell_type": "markdown",
   "metadata": {
    "collapsed": true
   },
   "source": [
    "###### Separate and Summarize the two Populations and its sub-groups"
   ]
  },
  {
   "cell_type": "code",
   "execution_count": 52,
   "metadata": {
    "collapsed": false
   },
   "outputs": [
    {
     "name": "stdout",
     "output_type": "stream",
     "text": [
      "Gender  Admit   \n",
      "Female  Admitted     557\n",
      "        Rejected    1278\n",
      "Male    Admitted    1198\n",
      "        Rejected    1493\n",
      "Name: Freq, dtype: int64\n"
     ]
    }
   ],
   "source": [
    "g_gender_admit = df.groupby(['Gender', 'Admit'])\n",
    "gdf = g_gender_admit['Freq'].aggregate(np.sum)\n",
    "\n",
    "female_admitted, female_rejected =  gdf[0], gdf[1]\n",
    "male_admitted, male_rejected =  gdf[2], gdf[3]\n",
    "\n",
    "print gdf"
   ]
  },
  {
   "cell_type": "markdown",
   "metadata": {
    "collapsed": true
   },
   "source": [
    "###### Calculate the Proportions of each Population\n",
    "\n",
    "proportion = admitted/(admitted+rejected)"
   ]
  },
  {
   "cell_type": "code",
   "execution_count": 57,
   "metadata": {
    "collapsed": false
   },
   "outputs": [
    {
     "name": "stdout",
     "output_type": "stream",
     "text": [
      "1835.0 0.303542234332\n",
      "2691.0 0.445187662579\n"
     ]
    }
   ],
   "source": [
    "N1 = float(female_admitted + female_rejected)\n",
    "p1 = female_admitted / N1\n",
    "N2 = float(male_admitted + male_rejected)\n",
    "p2 = male_admitted / N2\n",
    "\n",
    "print N1, p1\n",
    "print N2, p2"
   ]
  },
  {
   "cell_type": "markdown",
   "metadata": {
    "collapsed": true
   },
   "source": [
    "Calculate Z"
   ]
  },
  {
   "cell_type": "code",
   "execution_count": 64,
   "metadata": {
    "collapsed": false
   },
   "outputs": [
    {
     "name": "stdout",
     "output_type": "stream",
     "text": [
      "9.84521533487\n"
     ]
    }
   ],
   "source": [
    "variance = p1 * (1-p1)/N1 + p2 * (1-p2)/N2\n",
    "Z = ((p1-p2) - 0) / math.sqrt(variance)\n",
    "print abs(Z)"
   ]
  },
  {
   "cell_type": "markdown",
   "metadata": {
    "collapsed": true
   },
   "source": [
    "Calculate the p-value (prob of the mean of diff of proportions being Z or higher)\n",
    "    - Integrate the normal up to the value Z and subtract from 1\n"
   ]
  },
  {
   "cell_type": "markdown",
   "metadata": {},
   "source": [
    "According to this calculator\n",
    "    http://vassarstats.net/tabs.html#z\n",
    "\n",
    "a Z value of 9.8 is off the charts and the probabilities can't even be calculated"
   ]
  },
  {
   "cell_type": "code",
   "execution_count": null,
   "metadata": {
    "collapsed": true
   },
   "outputs": [],
   "source": []
  }
 ],
 "metadata": {
  "kernelspec": {
   "display_name": "Python 2",
   "language": "python",
   "name": "python2"
  },
  "language_info": {
   "codemirror_mode": {
    "name": "ipython",
    "version": 2
   },
   "file_extension": ".py",
   "mimetype": "text/x-python",
   "name": "python",
   "nbconvert_exporter": "python",
   "pygments_lexer": "ipython2",
   "version": "2.7.6"
  }
 },
 "nbformat": 4,
 "nbformat_minor": 0
}
