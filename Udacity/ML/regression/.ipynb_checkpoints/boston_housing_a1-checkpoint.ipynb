{
 "cells": [
  {
   "cell_type": "code",
   "execution_count": 1,
   "metadata": {
    "collapsed": false
   },
   "outputs": [],
   "source": [
    "# Load libraries\n",
    "import numpy as np\n",
    "import pylab as pl\n",
    "from sklearn import datasets\n",
    "from sklearn.tree import DecisionTreeRegressor\n",
    "\n",
    "################################\n",
    "### ADD EXTRA LIBRARIES HERE ###\n",
    "################################\n",
    "import pandas as pd\n",
    "from sklearn.cross_validation import train_test_split\n",
    "from sklearn.metrics import f1_score"
   ]
  },
  {
   "cell_type": "code",
   "execution_count": 2,
   "metadata": {
    "collapsed": false
   },
   "outputs": [],
   "source": [
    "def load_data():\n",
    "\t'''Load the Boston dataset.'''\n",
    "\tboston = datasets.load_boston()\n",
    "\t# n-dimensional numpy aray\n",
    "\tprint type(boston.target)\n",
    "\t# Bunch object, dictionary-like with multiple data structures\n",
    "\t#print boston.DESCR\n",
    "    \n",
    "\treturn boston"
   ]
  },
  {
   "cell_type": "code",
   "execution_count": 3,
   "metadata": {
    "collapsed": true
   },
   "outputs": [],
   "source": [
    "def explore_city_data(city_data):\n",
    "\t'''Calculate the Boston housing statistics.'''\n",
    "\n",
    "\t# Get the labels and features from the housing data\n",
    "\thousing_prices = city_data.target\n",
    "\thousing_features = city_data.data\n",
    "\n",
    "\t###################################\n",
    "\t### Step 1. YOUR CODE GOES HERE ###\n",
    "\t###################################\n",
    "\n",
    "\t# Please calculate the following values using the Numpy library\n",
    "\t# Size of data?\n",
    "\tprint city_data.data.shape\n",
    "\t\n",
    "\t# Number of features?\n",
    "\tprint len(city_data.feature_names)\n",
    "\t\n",
    "\t# Minimum value?\n",
    "\tprint city_data.target.min()\n",
    "    \n",
    "\t# Maximum Value?\n",
    "\tprint city_data.target.min()\n",
    "\t\n",
    "\t# Calculate mean?\n",
    "\tprint city_data.target.mean()\n",
    "\t\n",
    "\t# Calculate median?\n",
    "\tprint np.median(city_data.target)\n",
    "\t\n",
    "\t# Calculate standard deviation?\n",
    "\tprint city_data.target.std()\n"
   ]
  },
  {
   "cell_type": "code",
   "execution_count": 4,
   "metadata": {
    "collapsed": false
   },
   "outputs": [],
   "source": [
    "def split_data(city_data):\n",
    "\t'''Randomly shuffle the sample set. Divide it into training and testing set.'''\n",
    "\n",
    "\t# Get the features and labels from the Boston housing data\n",
    "\tX, y = city_data.data, city_data.target\n",
    "\n",
    "\t###################################\n",
    "\t### Step 3. YOUR CODE GOES HERE ###\n",
    "\t###################################\n",
    "\tX_train, X_test, y_train, y_test = train_test_split(X, y, test_size=0.33, random_state=42)\n",
    "\n",
    "\treturn X_train, y_train, X_test, y_test"
   ]
  },
  {
   "cell_type": "code",
   "execution_count": 5,
   "metadata": {
    "collapsed": false
   },
   "outputs": [],
   "source": [
    "def performance_metric(label, prediction):\n",
    "\t'''Calculate and return the appropriate performance metric.'''\n",
    "\tprint type(label), type(prediction)\n",
    "\t###################################\n",
    "\t### Step 2. YOUR CODE GOES HERE ###\n",
    "\t################################### \n",
    "\t# http://scikit-learn.org/stable/modules/classes.html#sklearn-metrics-metrics\n",
    "\tf1 = f1_score(np.rint(label), np.rint(prediction), average='weighted')\n",
    "\n",
    "\treturn f1"
   ]
  },
  {
   "cell_type": "code",
   "execution_count": 6,
   "metadata": {
    "collapsed": true
   },
   "outputs": [],
   "source": [
    "def learning_curve(depth, X_train, y_train, X_test, y_test):\n",
    "\t'''Calculate the performance of the model after a set of training data.'''\n",
    "\n",
    "\t# We will vary the training set size so that we have 50 different sizes\n",
    "\tsizes = np.linspace(1, len(X_train), 50)\n",
    "\ttrain_err = np.zeros(len(sizes))\n",
    "\ttest_err = np.zeros(len(sizes))\n",
    "\n",
    "\tprint \"Decision Tree with Max Depth: \"\n",
    "\tprint depth\n",
    "\n",
    "\tfor i, s in enumerate(sizes):\n",
    "\n",
    "\t\t# Create and fit the decision tree regressor model\n",
    "\t\tregressor = DecisionTreeRegressor(max_depth=depth)\n",
    "\t\tregressor.fit(X_train[:s], y_train[:s])\n",
    "\n",
    "\t\t# Find the performance on the training and testing set\n",
    "\t\ttrain_err[i] = performance_metric(y_train[:s], regressor.predict(X_train[:s]))\n",
    "\t\ttest_err[i] = performance_metric(y_test, regressor.predict(X_test))\n",
    "\n",
    "\n",
    "\t# Plot learning curve graph\n",
    "\tlearning_curve_graph(sizes, train_err, test_err)"
   ]
  },
  {
   "cell_type": "code",
   "execution_count": 7,
   "metadata": {
    "collapsed": true
   },
   "outputs": [],
   "source": [
    "def learning_curve_graph(sizes, train_err, test_err):\n",
    "\t'''Plot training and test error as a function of the training size.'''\n",
    "\n",
    "\tpl.figure()\n",
    "\tpl.title('Decision Trees: Performance vs Training Size')\n",
    "\tpl.plot(sizes, test_err, lw=2, label = 'test error')\n",
    "\tpl.plot(sizes, train_err, lw=2, label = 'training error')\n",
    "\tpl.legend()\n",
    "\tpl.xlabel('Training Size')\n",
    "\tpl.ylabel('Error')\n",
    "\tpl.show()"
   ]
  },
  {
   "cell_type": "code",
   "execution_count": 8,
   "metadata": {
    "collapsed": true
   },
   "outputs": [],
   "source": [
    "\n",
    "def model_complexity(X_train, y_train, X_test, y_test):\n",
    "\t'''Calculate the performance of the model as model complexity increases.'''\n",
    "\n",
    "\tprint \"Model Complexity: \"\n",
    "\n",
    "\t# We will vary the depth of decision trees from 2 to 25\n",
    "\tmax_depth = np.arange(1, 25)\n",
    "\ttrain_err = np.zeros(len(max_depth))\n",
    "\ttest_err = np.zeros(len(max_depth))\n",
    "\n",
    "\tfor i, d in enumerate(max_depth):\n",
    "\t\t# Setup a Decision Tree Regressor so that it learns a tree with depth d\n",
    "\t\tregressor = DecisionTreeRegressor(max_depth=d)\n",
    "\n",
    "\t\t# Fit the learner to the training data\n",
    "\t\tregressor.fit(X_train, y_train)\n",
    "\n",
    "\t\t# Find the performance on the training set\n",
    "\t\ttrain_err[i] = performance_metric(y_train, regressor.predict(X_train))\n",
    "\n",
    "\t\t# Find the performance on the testing set\n",
    "\t\ttest_err[i] = performance_metric(y_test, regressor.predict(X_test))\n",
    "\n",
    "\t# Plot the model complexity graph\n",
    "\tmodel_complexity_graph(max_depth, train_err, test_err)\n"
   ]
  },
  {
   "cell_type": "code",
   "execution_count": 9,
   "metadata": {
    "collapsed": true
   },
   "outputs": [],
   "source": [
    "def fit_predict_model(city_data):\n",
    "\t'''Find and tune the optimal model. Make a prediction on housing data.'''\n",
    "\n",
    "\t# Get the features and labels from the Boston housing data\n",
    "\tX, y = city_data.data, city_data.target\n",
    "\n",
    "\t# Setup a Decision Tree Regressor\n",
    "\tregressor = DecisionTreeRegressor()\n",
    "\n",
    "\tparameters = {'max_depth':(1,2,3,4,5,6,7,8,9,10)}\n",
    "\n",
    "\t###################################\n",
    "\t### Step 4. YOUR CODE GOES HERE ###\n",
    "\t###################################\n",
    "\n",
    "\t# 1. Find the best performance metric\n",
    "\t# should be the same as your performance_metric procedure\n",
    "\t# http://scikit-learn.org/stable/modules/generated/sklearn.metrics.make_scorer.html\n",
    "\n",
    "\t# 2. Use gridearch to fine tune the Decision Tree Regressor and find the best model\n",
    "\t# http://scikit-learn.org/stable/modules/generated/sklearn.grid_search.GridSearchCV.html#sklearn.grid_search.GridSearchCV\n",
    "\n",
    "\t# Fit the learner to the training data\n",
    "\tprint \"Final Model: \"\n",
    "\tprint reg.fit(X, y)\n",
    "    \n",
    "    # Use the model to predict the output of a particular sample\n",
    "\tx = [11.95, 0.00, 18.100, 0, 0.6590, 5.6090, 90.00, 1.385, 24, 680.0, 20.20, 332.09, 12.13]\n",
    "\ty = reg.predict(x)\n",
    "\tprint \"House: \" + str(x)\n",
    "\tprint \"Prediction: \" + str(y)"
   ]
  },
  {
   "cell_type": "code",
   "execution_count": 10,
   "metadata": {
    "collapsed": true
   },
   "outputs": [],
   "source": [
    "def main():\n",
    "\t'''Analyze the Boston housing data. Evaluate and validate the\n",
    "\tperformanance of a Decision Tree regressor on the Boston data.\n",
    "\tFine tune the model to make prediction on unseen data.'''\n",
    "\n",
    "\t# Load data\n",
    "\tcity_data = load_data()\n",
    "    \n",
    "\t# Explore the data\n",
    "\texplore_city_data(city_data)\n",
    "    \n",
    "\t# Training/Test dataset split\n",
    "\tX_train, y_train, X_test, y_test = split_data(city_data)\n",
    "\n",
    "\t# Learning Curve Graphs\n",
    "\t#max_depths = [1,2,3,4,5,6,7,8,9,10]\n",
    "\tmax_depths = [3]\n",
    "\tfor max_depth in max_depths:\n",
    "\t\tlearning_curve(max_depth, X_train, y_train, X_test, y_test)\n",
    "\n",
    "\t# Model Complexity Graph\n",
    "\tmodel_complexity(X_train, y_train, X_test, y_test)\n",
    "\n",
    "\t# Tune and predict Model\n",
    "\tfit_predict_model(city_data)\n"
   ]
  },
  {
   "cell_type": "code",
   "execution_count": null,
   "metadata": {
    "collapsed": false
   },
   "outputs": [
    {
     "name": "stdout",
     "output_type": "stream",
     "text": [
      "<type 'numpy.ndarray'>\n",
      "(506, 13)\n",
      "13\n",
      "5.0\n",
      "5.0\n",
      "22.5328063241\n",
      "21.2\n",
      "9.18801154528\n",
      "Decision Tree with Max Depth: \n",
      "3\n",
      "<type 'numpy.ndarray'> <type 'numpy.ndarray'>\n",
      "<type 'numpy.ndarray'> <type 'numpy.ndarray'>\n",
      "<type 'numpy.ndarray'> <type 'numpy.ndarray'>\n",
      "<type 'numpy.ndarray'> <type 'numpy.ndarray'>\n",
      "<type 'numpy.ndarray'> <type 'numpy.ndarray'>\n",
      "<type 'numpy.ndarray'> <type 'numpy.ndarray'>\n",
      "<type 'numpy.ndarray'> <type 'numpy.ndarray'>\n",
      "<type 'numpy.ndarray'> <type 'numpy.ndarray'>\n",
      "<type 'numpy.ndarray'> <type 'numpy.ndarray'>\n",
      "<type 'numpy.ndarray'> <type 'numpy.ndarray'>\n",
      "<type 'numpy.ndarray'> <type 'numpy.ndarray'>\n",
      "<type 'numpy.ndarray'> <type 'numpy.ndarray'>\n",
      "<type 'numpy.ndarray'> <type 'numpy.ndarray'>\n",
      "<type 'numpy.ndarray'> <type 'numpy.ndarray'>\n",
      "<type 'numpy.ndarray'> <type 'numpy.ndarray'>\n",
      "<type 'numpy.ndarray'> <type 'numpy.ndarray'>\n",
      "<type 'numpy.ndarray'> <type 'numpy.ndarray'>\n",
      "<type 'numpy.ndarray'> <type 'numpy.ndarray'>\n",
      "<type 'numpy.ndarray'> <type 'numpy.ndarray'>\n",
      "<type 'numpy.ndarray'> <type 'numpy.ndarray'>\n",
      "<type 'numpy.ndarray'> <type 'numpy.ndarray'>\n",
      "<type 'numpy.ndarray'> <type 'numpy.ndarray'>\n",
      "<type 'numpy.ndarray'> <type 'numpy.ndarray'>\n",
      "<type 'numpy.ndarray'> <type 'numpy.ndarray'>\n",
      "<type 'numpy.ndarray'> <type 'numpy.ndarray'>\n",
      "<type 'numpy.ndarray'> <type 'numpy.ndarray'>\n",
      "<type 'numpy.ndarray'> <type 'numpy.ndarray'>\n",
      "<type 'numpy.ndarray'> <type 'numpy.ndarray'>\n",
      "<type 'numpy.ndarray'> <type 'numpy.ndarray'>\n",
      "<type 'numpy.ndarray'> <type 'numpy.ndarray'>\n",
      "<type 'numpy.ndarray'> <type 'numpy.ndarray'>\n",
      "<type 'numpy.ndarray'> <type 'numpy.ndarray'>\n",
      "<type 'numpy.ndarray'> <type 'numpy.ndarray'>\n",
      "<type 'numpy.ndarray'> <type 'numpy.ndarray'>\n",
      "<type 'numpy.ndarray'> <type 'numpy.ndarray'>\n",
      "<type 'numpy.ndarray'> <type 'numpy.ndarray'>\n",
      "<type 'numpy.ndarray'> <type 'numpy.ndarray'>\n",
      "<type 'numpy.ndarray'> <type 'numpy.ndarray'>\n",
      "<type 'numpy.ndarray'> <type 'numpy.ndarray'>\n",
      "<type 'numpy.ndarray'> <type 'numpy.ndarray'>\n",
      "<type 'numpy.ndarray'> <type 'numpy.ndarray'>\n",
      "<type 'numpy.ndarray'> <type 'numpy.ndarray'>\n",
      "<type 'numpy.ndarray'> <type 'numpy.ndarray'>\n",
      "<type 'numpy.ndarray'> <type 'numpy.ndarray'>\n",
      "<type 'numpy.ndarray'> <type 'numpy.ndarray'>\n",
      "<type 'numpy.ndarray'> <type 'numpy.ndarray'>\n",
      "<type 'numpy.ndarray'> <type 'numpy.ndarray'>\n",
      "<type 'numpy.ndarray'> <type 'numpy.ndarray'>\n",
      "<type 'numpy.ndarray'> <type 'numpy.ndarray'>\n",
      "<type 'numpy.ndarray'> <type 'numpy.ndarray'>\n",
      "<type 'numpy.ndarray'> <type 'numpy.ndarray'>\n",
      "<type 'numpy.ndarray'> <type 'numpy.ndarray'>\n",
      "<type 'numpy.ndarray'> <type 'numpy.ndarray'>\n",
      "<type 'numpy.ndarray'> <type 'numpy.ndarray'>\n",
      "<type 'numpy.ndarray'> <type 'numpy.ndarray'>\n",
      "<type 'numpy.ndarray'> <type 'numpy.ndarray'>\n",
      "<type 'numpy.ndarray'> <type 'numpy.ndarray'>\n",
      "<type 'numpy.ndarray'> <type 'numpy.ndarray'>\n",
      "<type 'numpy.ndarray'> <type 'numpy.ndarray'>\n",
      "<type 'numpy.ndarray'> <type 'numpy.ndarray'>\n",
      "<type 'numpy.ndarray'> <type 'numpy.ndarray'>\n",
      "<type 'numpy.ndarray'> <type 'numpy.ndarray'>\n",
      "<type 'numpy.ndarray'> <type 'numpy.ndarray'>\n",
      "<type 'numpy.ndarray'> <type 'numpy.ndarray'>\n",
      "<type 'numpy.ndarray'> <type 'numpy.ndarray'>\n",
      "<type 'numpy.ndarray'> <type 'numpy.ndarray'>\n",
      "<type 'numpy.ndarray'> <type 'numpy.ndarray'>\n",
      "<type 'numpy.ndarray'> <type 'numpy.ndarray'>\n",
      "<type 'numpy.ndarray'> <type 'numpy.ndarray'>\n",
      "<type 'numpy.ndarray'> <type 'numpy.ndarray'>\n",
      "<type 'numpy.ndarray'> <type 'numpy.ndarray'>\n",
      "<type 'numpy.ndarray'> <type 'numpy.ndarray'>\n",
      "<type 'numpy.ndarray'> <type 'numpy.ndarray'>\n",
      "<type 'numpy.ndarray'> <type 'numpy.ndarray'>\n",
      "<type 'numpy.ndarray'> <type 'numpy.ndarray'>\n",
      "<type 'numpy.ndarray'> <type 'numpy.ndarray'>\n",
      "<type 'numpy.ndarray'> <type 'numpy.ndarray'>\n",
      "<type 'numpy.ndarray'> <type 'numpy.ndarray'>\n",
      "<type 'numpy.ndarray'> <type 'numpy.ndarray'>\n",
      "<type 'numpy.ndarray'> <type 'numpy.ndarray'>\n",
      "<type 'numpy.ndarray'> <type 'numpy.ndarray'>\n",
      "<type 'numpy.ndarray'> <type 'numpy.ndarray'>\n",
      "<type 'numpy.ndarray'> <type 'numpy.ndarray'>\n",
      "<type 'numpy.ndarray'> <type 'numpy.ndarray'>\n",
      "<type 'numpy.ndarray'> <type 'numpy.ndarray'>\n",
      "<type 'numpy.ndarray'> <type 'numpy.ndarray'>\n",
      "<type 'numpy.ndarray'> <type 'numpy.ndarray'>\n",
      "<type 'numpy.ndarray'> <type 'numpy.ndarray'>\n",
      "<type 'numpy.ndarray'> <type 'numpy.ndarray'>\n",
      "<type 'numpy.ndarray'> <type 'numpy.ndarray'>\n",
      "<type 'numpy.ndarray'> <type 'numpy.ndarray'>\n",
      "<type 'numpy.ndarray'>"
     ]
    }
   ],
   "source": [
    "main()"
   ]
  },
  {
   "cell_type": "code",
   "execution_count": null,
   "metadata": {
    "collapsed": true
   },
   "outputs": [],
   "source": []
  }
 ],
 "metadata": {
  "kernelspec": {
   "display_name": "Python 2",
   "language": "python",
   "name": "python2"
  },
  "language_info": {
   "codemirror_mode": {
    "name": "ipython",
    "version": 2
   },
   "file_extension": ".py",
   "mimetype": "text/x-python",
   "name": "python",
   "nbconvert_exporter": "python",
   "pygments_lexer": "ipython2",
   "version": "2.7.11"
  }
 },
 "nbformat": 4,
 "nbformat_minor": 0
}
